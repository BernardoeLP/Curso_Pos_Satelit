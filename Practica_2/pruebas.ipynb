{
 "cells": [
  {
   "cell_type": "code",
   "execution_count": 4,
   "metadata": {},
   "outputs": [
    {
     "name": "stdout",
     "output_type": "stream",
     "text": [
      "[5, 2]\n"
     ]
    },
    {
     "data": {
      "text/plain": [
       "np.float64(6.708203932499369)"
      ]
     },
     "execution_count": 4,
     "metadata": {},
     "output_type": "execute_result"
    }
   ],
   "source": [
    "from numpy import linalg\n",
    "A = [1,1,1,1]\n",
    "B = [4,1,3,1]\n",
    "B\n",
    "B = [(B[i]+A[i]) for i in range( len(B))]\n",
    "B\n",
    "print(B[:2])\n",
    "linalg.norm(B[:3])"
   ]
  },
  {
   "cell_type": "code",
   "execution_count": 8,
   "metadata": {},
   "outputs": [
    {
     "data": {
      "text/plain": [
       "-0.20488815367104785"
      ]
     },
     "execution_count": 8,
     "metadata": {},
     "output_type": "execute_result"
    }
   ],
   "source": [
    "from random import random\n",
    "\n",
    "random()-0.5\n"
   ]
  },
  {
   "cell_type": "code",
   "execution_count": 6,
   "metadata": {},
   "outputs": [
    {
     "name": "stdout",
     "output_type": "stream",
     "text": [
      "0.07783591342714832 0.07783591342714832\n",
      "0.07533941740789223 0.07533941740789223\n",
      "0.08395030164501337 0.08395030164501337\n",
      "0.06962539820131165 0.06962539820131165\n",
      "0.07795773598480586 0.07795773598480586\n",
      "0.07173603575444183 0.07173603575444183\n",
      "0.06990972544079144 0.06990972544079144\n"
     ]
    },
    {
     "data": {
      "text/plain": [
       "{'28': 0.07783591342714832,\n",
       " '13': 0.07533941740789223,\n",
       " '01': 0.08395030164501337,\n",
       " '27': 0.06962539820131165,\n",
       " '24': 0.07795773598480586,\n",
       " '10': 0.07173603575444183,\n",
       " '08': 0.06990972544079144}"
      ]
     },
     "execution_count": 6,
     "metadata": {},
     "output_type": "execute_result"
    }
   ],
   "source": [
    "PD = {                # PseudoDist [m]\n",
    "\"28\": 23334619.807,\n",
    "\"13\": 22586189.129,\n",
    "\"01\": 25167667.280,\n",
    "\"27\": 20873169.266,\n",
    "\"24\": 23371141.291,\n",
    "\"10\": 21505922.486,\n",
    "\"08\": 20958408.428\n",
    "}\n",
    "c = 299792458         # m/s  de ITRF\n",
    "TT = {s:PD[s]/c for s in PD} \n",
    "\n",
    "for s in PD:\n",
    "    print(PD[s]/c,TT[s])\n",
    "TT\n"
   ]
  },
  {
   "cell_type": "code",
   "execution_count": 4,
   "metadata": {},
   "outputs": [
    {
     "name": "stdout",
     "output_type": "stream",
     "text": [
      "36.698468\n"
     ]
    }
   ],
   "source": [
    "Precisas  ={          # Efemérides Precisas [Km] , [us]\n",
    "    #        X             Y              Z           clk\n",
    "\"01\" : [  581.886423, 25616.666528 ,  7088.545471, 169.092800],\n",
    "\"08\" : [22018.953984,  2878.718252 , 14451.124018,   9.709180],\n",
    "\"10\" : [10103.948910, -10925.429662, 22009.912003,   1.148951],\n",
    "\"13\" : [ 7525.432597,  20488.591201, 15216.097471,  -0.655216],\n",
    "\"24\" : [22368.646126, -12657.086060,  6934.928617,  36.698468],\n",
    "\"27\" : [15057.427636,   9402.947329, 20171.667340,  14.763242],\n",
    "\"28\" : [-5895.039751,  14576.928529, 21538.074040,  14.267922]\n",
    "}\n",
    "sats = {s for s in Precisas} \n",
    "print(Precisas['24'][3])"
   ]
  },
  {
   "cell_type": "code",
   "execution_count": 3,
   "metadata": {},
   "outputs": [
    {
     "data": {
      "text/plain": [
       "{'28': 1.0428,\n",
       " '13': 1.3895,\n",
       " '01': 2.3808,\n",
       " '27': 2.6334,\n",
       " '24': 2.6038,\n",
       " '10': 2.5465,\n",
       " '08': 2.5781}"
      ]
     },
     "execution_count": 3,
     "metadata": {},
     "output_type": "execute_result"
    }
   ],
   "source": [
    "Delta_ant = {                # Corrección de centro de fase de antenaa para cada sat m\n",
    "\"28\":  1.04280 ,\n",
    "\"13\":  1.38950 ,\n",
    "\"01\":  2.38080 ,\n",
    "\"27\":  2.63340 ,\n",
    "\"24\":  2.60380 ,\n",
    "\"10\":  2.54650 ,\n",
    "\"08\":  2.57810 \n",
    "}\n",
    "Delta_ant"
   ]
  },
  {
   "cell_type": "code",
   "execution_count": 1,
   "metadata": {},
   "outputs": [
    {
     "name": "stdout",
     "output_type": "stream",
     "text": [
      "50\n",
      "50\n",
      "50\n"
     ]
    }
   ],
   "source": [
    "#import more_itertools as mit\n",
    "from numpy import dot, matmul, array\n",
    "\n",
    "\n",
    "a = array([1, 2, 3])\n",
    "b = array([7, 8, 9])\n",
    "\n",
    "#mit.dotproduct(a, b)\n",
    "# 50\n",
    "print(dot(a,b))\n",
    "print(matmul(a,b))\n",
    "print(a@b)\n"
   ]
  }
 ],
 "metadata": {
  "kernelspec": {
   "display_name": "Python 3",
   "language": "python",
   "name": "python3"
  },
  "language_info": {
   "codemirror_mode": {
    "name": "ipython",
    "version": 3
   },
   "file_extension": ".py",
   "mimetype": "text/x-python",
   "name": "python",
   "nbconvert_exporter": "python",
   "pygments_lexer": "ipython3",
   "version": "3.12.4"
  }
 },
 "nbformat": 4,
 "nbformat_minor": 2
}
